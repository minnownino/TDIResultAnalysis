{
 "cells": [
  {
   "cell_type": "markdown",
   "metadata": {},
   "source": [
    "## Part 0\n",
    "Read file, data preparation"
   ]
  },
  {
   "cell_type": "code",
   "execution_count": 27,
   "metadata": {},
   "outputs": [
    {
     "name": "stdout",
     "output_type": "stream",
     "text": [
      "set path\n",
      "\n",
      "\n",
      "\n"
     ]
    }
   ],
   "source": [
    "import pandas as pd\n",
    "import numpy as np\n",
    "import csv\n",
    "import os\n",
    "import matplotlib as plt\n",
    "%matplotlib inline\n",
    "\n",
    "###### set path\n",
    "print \"set path\"\n",
    "TDI_FILE_PATH = ''\n",
    "POS_FILE_PATH = ''\n",
    "SGA_FILE_PATH = ''\n",
    "# TDI_FILE_PATH = \"TSDtriplet.csv\"\n",
    "# # POS_FILE_PATH = \"data_noCT/PANCAN.postprobcutoff.perSGA.csv\"\n",
    "# POS_FILE_PATH = \"postprobthd.p=0.05.perSGA.csv\"\n",
    "# SGA_FILE_PATH = \"SGApair.csv\"\n",
    "print TDI_FILE_PATH\n",
    "print POS_FILE_PATH\n",
    "print SGA_FILE_PATH"
   ]
  },
  {
   "cell_type": "code",
   "execution_count": 12,
   "metadata": {
    "collapsed": true
   },
   "outputs": [],
   "source": [
    "def extractTriplet(TDI_FILE_PATH):\n",
    "    \"\"\"\n",
    "    Extract Tumor-SGA-DEG-PostProb triplet (Recommend parallel processing)\n",
    "    return triplet as csv file and pandas dataframe\n",
    "    \"\"\"\n",
    "    pass"
   ]
  },
  {
   "cell_type": "code",
   "execution_count": null,
   "metadata": {
    "collapsed": true
   },
   "outputs": [],
   "source": [
    "df_realData = extractTriplet(REAL_FILE_PATH)\n",
    "df_exp1 = extractTriplet(EXP1_FILE_PATH)\n",
    "df_exp2= extractTriplet(EXP2_FILE_PATH)\n",
    "df_exp3 = extractTriplet(EXP3_FILE_PATH)"
   ]
  },
  {
   "cell_type": "markdown",
   "metadata": {},
   "source": [
    "## Part 1\n",
    "Compare highest posterior probability per DEG distribution between real data experiment and 3 random DEG matrix permutation experiments."
   ]
  },
  {
   "cell_type": "code",
   "execution_count": 19,
   "metadata": {
    "collapsed": true
   },
   "outputs": [],
   "source": [
    "# Plot the distribution of postprob from real data and that from random permutated data (average value) in the same figure.\n",
    "plt.figure();\n",
    "plt.hist(df_realData['posterior'], bins=100, alpha=0.5, histtype='step', label='real')\n",
    "data_exp1 = plt.hist(df_exp1['posterior'], bins=100, alpha=0.5, histtype='step', label='exp1') \n",
    "data_exp2 = plt.hist(df_exp2['posterior'], bins=100, alpha=0.5, histtype='step', label='exp2')\n",
    "data_exp3 = plt.hist(df_exp3['posterior'], bins=100, alpha=0.5, histtype='step', label='exp3')\n",
    "plt.legend(loc='upper right')\n",
    "plt.title('posterior probability')"
   ]
  },
  {
   "cell_type": "markdown",
   "metadata": {},
   "source": [
    "## Part 2\n",
    "Compare highest posterior probability per DEG distribution for a given SGA between real data experiment, 3 random DEG matrix permutation experiments and 3 single SGA permutation experiments."
   ]
  },
  {
   "cell_type": "code",
   "execution_count": 14,
   "metadata": {
    "collapsed": true
   },
   "outputs": [],
   "source": [
    "# variables\n",
    "sgas = ['TP53', 'PIK3CA', 'PTEN', 'TTN', 'ZFHX4', 'CSMD3']"
   ]
  },
  {
   "cell_type": "code",
   "execution_count": 17,
   "metadata": {
    "collapsed": true
   },
   "outputs": [],
   "source": [
    "# functions\n",
    "def ppdistDEGSGA(tri, sga):\n",
    "    \"\"\"\n",
    "    Plot the distribution of postprob from real data and that from random permutated data (average value) in the same figure.\n",
    "    \"\"\"\n",
    "    pass"
   ]
  },
  {
   "cell_type": "code",
   "execution_count": null,
   "metadata": {
    "collapsed": true
   },
   "outputs": [],
   "source": []
  },
  {
   "cell_type": "markdown",
   "metadata": {},
   "source": [
    "## Part 3\n",
    "Use 5, 10, 15 DEGs to called driver. Compare the number of drivers per tumor called between real data and random permutated data.\n",
    "\n",
    "| DEG threshold | 5        | 10    | 15 \n",
    "| :------------- |:--------| :-----|:------\n",
    "| real data     | 0.0      | 0.0   |  0.0\n",
    "| rand exp 1    | 0.0      | 0.0   |  0.0\n",
    "| rand exp 2    | 0.0      | 0.0   |  0.0\n",
    "| rand exp 3    | 0.0      | 0.0   |  0.0\n"
   ]
  },
  {
   "cell_type": "code",
   "execution_count": 16,
   "metadata": {
    "collapsed": true
   },
   "outputs": [],
   "source": [
    "def read_file(TRIPLET_FILE_PATH, POS_FILE_PATH):  \n",
    "    \"\"\"\n",
    "        read the tdi file and posterior file \n",
    "        return filtered dataframe of tdi results\n",
    "    \"\"\"\n",
    "    # df = pd.read_csv(\"data_noCT/TSDtriplet.csv\")\n",
    "    # df_posterior = pd.read_csv(\"data_noCT/PANCAN.postprobcutoff.perSGA.csv\")\n",
    "\n",
    "    df = pd.read_csv(TDI_FILE_PATH)\n",
    "    df_posterior = pd.read_csv(POS_FILE_PATH)\n",
    "    tmp = dict(zip(df_posterior['Unnamed: 0'], df_posterior.PostProbcutoff))\n",
    "    df['a'] = df.cause_gene_name.map(tmp)\n",
    "    # cutoff by posterior\n",
    "    df_updated_cutoff = df.loc[df['posterior'] >= df['a']]\n",
    "    del df_updated_cutoff['a']\n",
    "    return df_updated_cutoff\n",
    "\n",
    "def driver(df, threshold=5):\n",
    "    \"\"\"\n",
    "        input: read_file() output\n",
    "        output: csv file of driver call per tumor\n",
    "    \"\"\"\n",
    "    grouped = df.groupby('patient_name')\n",
    "    tmp = []\n",
    "    for name, group in grouped:\n",
    "        filtergroup = group.groupby('cause_gene_name').filter(lambda x : len(x) >= threshold)\n",
    "        tmp.append(filtergroup)\n",
    "    driverTriplet = pd.concat(tmp)\n",
    "    driverPerTumor = pd.concat(tmp)\n",
    "    del driverPerTumor['result_gene_name']\n",
    "    del driverPerTumor['posterior']\n",
    "    driverPerTumor = driverPerTumor.drop_duplicates()\n",
    "    return (driverTriplet, driverPerTumor)\n",
    "\n",
    "def driverCallCompare():\n",
    "    \"\"\"\n",
    "    Result: average number drivers called across all tumors (3x4 table)\n",
    "    row - number of DEGs used as the threshold, i.e. 5, 10, 15\n",
    "    column - col1: real data; col2-4: random permutation experiment 1-3.\n",
    "    \"\"\"\n"
   ]
  },
  {
   "cell_type": "code",
   "execution_count": null,
   "metadata": {
    "collapsed": true
   },
   "outputs": [],
   "source": [
    "# variables\n",
    "TRIPLET_FILE_PATH = ''\n",
    "POS_FILE_PATH = POS_FILE_PATH\n",
    "df = read_file(TRIPLET_FILE_PATH, POS_FILE_PATH)\n",
    "# call driver(df, 5), driver(df, 10), driver(df, 10)"
   ]
  },
  {
   "cell_type": "markdown",
   "metadata": {},
   "source": [
    "## Part 4\n",
    "Use 5, 10, 15 DEGs to called driver for a given SGA. Compare the number of tumors the given SGA is called as a driver in real data, 3 random DEG permutated data and single SGA permutated data."
   ]
  },
  {
   "cell_type": "code",
   "execution_count": 11,
   "metadata": {
    "collapsed": true
   },
   "outputs": [],
   "source": [
    "# variables\n",
    "sgas = ['TP53', 'PIK3CA', 'PTEN', 'TTN', 'ZFHX4', 'CSMD3']"
   ]
  },
  {
   "cell_type": "markdown",
   "metadata": {},
   "source": [
    "## Part 5\n",
    "Calculate average driver call rate for well known drivers collected from Kandoth and Lawrence papers. What percentage of well known drivers are called as TDI drivers in at least one tumor? (Use 5, 10, 15 DEGs to called driver.)"
   ]
  },
  {
   "cell_type": "code",
   "execution_count": null,
   "metadata": {
    "collapsed": true
   },
   "outputs": [],
   "source": []
  }
 ],
 "metadata": {
  "kernelspec": {
   "display_name": "Python 2",
   "language": "python",
   "name": "python2"
  },
  "language_info": {
   "codemirror_mode": {
    "name": "ipython",
    "version": 2
   },
   "file_extension": ".py",
   "mimetype": "text/x-python",
   "name": "python",
   "nbconvert_exporter": "python",
   "pygments_lexer": "ipython2",
   "version": "2.7.14"
  }
 },
 "nbformat": 4,
 "nbformat_minor": 2
}
